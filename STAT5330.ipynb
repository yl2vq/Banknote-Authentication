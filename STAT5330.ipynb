{
 "cells": [
  {
   "cell_type": "markdown",
   "metadata": {},
   "source": [
    "# Banknote Authentication Machine Learning Project"
   ]
  },
  {
   "cell_type": "code",
   "execution_count": 132,
   "metadata": {},
   "outputs": [],
   "source": [
    "import pandas as pd\n",
    "import numpy as np\n",
    "import seaborn as sns\n",
    "from sklearn.model_selection import train_test_split\n",
    "from sklearn.metrics import confusion_matrix\n",
    "from sklearn.metrics import classification_report, confusion_matrix\n",
    "from sklearn.neighbors import KNeighborsClassifier\n",
    "from sklearn.discriminant_analysis import LinearDiscriminantAnalysis\n",
    "from sklearn.discriminant_analysis import QuadraticDiscriminantAnalysis\n",
    "from sklearn.linear_model import LogisticRegression\n",
    "from sklearn.ensemble import BaggingClassifier\n",
    "from sklearn.tree import DecisionTreeClassifier\n",
    "from sklearn.ensemble import RandomForestClassifier\n",
    "from sklearn.model_selection import GridSearchCV\n",
    "from sklearn.model_selection import validation_curve\n",
    "from sklearn.ensemble import AdaBoostClassifier\n",
    "from sklearn.ensemble import GradientBoostingClassifier\n",
    "from sklearn.pipeline import Pipeline\n",
    "from sklearn.preprocessing import StandardScaler\n",
    "from sklearn import svm\n",
    "from sklearn.svm import SVC\n",
    "from sklearn.svm import LinearSVC\n",
    "import sklearn.metrics as metrics\n",
    "import matplotlib.pyplot as plt\n",
    "from sklearn.model_selection import cross_val_score\n",
    "from sklearn.metrics import roc_curve\n",
    "from sklearn.metrics import roc_auc_score"
   ]
  },
  {
   "cell_type": "markdown",
   "metadata": {},
   "source": [
    "### 1. Read-in Data"
   ]
  },
  {
   "cell_type": "code",
   "execution_count": 3,
   "metadata": {},
   "outputs": [
    {
     "data": {
      "text/html": [
       "<div>\n",
       "<style scoped>\n",
       "    .dataframe tbody tr th:only-of-type {\n",
       "        vertical-align: middle;\n",
       "    }\n",
       "\n",
       "    .dataframe tbody tr th {\n",
       "        vertical-align: top;\n",
       "    }\n",
       "\n",
       "    .dataframe thead th {\n",
       "        text-align: right;\n",
       "    }\n",
       "</style>\n",
       "<table border=\"1\" class=\"dataframe\">\n",
       "  <thead>\n",
       "    <tr style=\"text-align: right;\">\n",
       "      <th></th>\n",
       "      <th>variance</th>\n",
       "      <th>skewness</th>\n",
       "      <th>curtosis</th>\n",
       "      <th>entropy</th>\n",
       "      <th>class</th>\n",
       "    </tr>\n",
       "  </thead>\n",
       "  <tbody>\n",
       "    <tr>\n",
       "      <th>0</th>\n",
       "      <td>3.62160</td>\n",
       "      <td>8.6661</td>\n",
       "      <td>-2.8073</td>\n",
       "      <td>-0.44699</td>\n",
       "      <td>0</td>\n",
       "    </tr>\n",
       "    <tr>\n",
       "      <th>1</th>\n",
       "      <td>4.54590</td>\n",
       "      <td>8.1674</td>\n",
       "      <td>-2.4586</td>\n",
       "      <td>-1.46210</td>\n",
       "      <td>0</td>\n",
       "    </tr>\n",
       "    <tr>\n",
       "      <th>2</th>\n",
       "      <td>3.86600</td>\n",
       "      <td>-2.6383</td>\n",
       "      <td>1.9242</td>\n",
       "      <td>0.10645</td>\n",
       "      <td>0</td>\n",
       "    </tr>\n",
       "    <tr>\n",
       "      <th>3</th>\n",
       "      <td>3.45660</td>\n",
       "      <td>9.5228</td>\n",
       "      <td>-4.0112</td>\n",
       "      <td>-3.59440</td>\n",
       "      <td>0</td>\n",
       "    </tr>\n",
       "    <tr>\n",
       "      <th>4</th>\n",
       "      <td>0.32924</td>\n",
       "      <td>-4.4552</td>\n",
       "      <td>4.5718</td>\n",
       "      <td>-0.98880</td>\n",
       "      <td>0</td>\n",
       "    </tr>\n",
       "  </tbody>\n",
       "</table>\n",
       "</div>"
      ],
      "text/plain": [
       "   variance  skewness  curtosis  entropy  class\n",
       "0   3.62160    8.6661   -2.8073 -0.44699      0\n",
       "1   4.54590    8.1674   -2.4586 -1.46210      0\n",
       "2   3.86600   -2.6383    1.9242  0.10645      0\n",
       "3   3.45660    9.5228   -4.0112 -3.59440      0\n",
       "4   0.32924   -4.4552    4.5718 -0.98880      0"
      ]
     },
     "execution_count": 3,
     "metadata": {},
     "output_type": "execute_result"
    }
   ],
   "source": [
    "headers = [\"variance\", \"skewness\", \"curtosis\",\"entropy\",\"class\"]\n",
    "data = pd.read_csv('data_banknote_authentication.txt', names=headers)\n",
    "data.head()"
   ]
  },
  {
   "cell_type": "markdown",
   "metadata": {},
   "source": [
    "### 2. Exploratory Data Analysis"
   ]
  },
  {
   "cell_type": "code",
   "execution_count": 4,
   "metadata": {},
   "outputs": [
    {
     "name": "stdout",
     "output_type": "stream",
     "text": [
      "There are 762 observations classified as 0, and 610 observations classified as 1\n"
     ]
    }
   ],
   "source": [
    "print(\"There are\",len(data[data['class']==0]),\"observations classified as 0, and\",len(data[data['class']==1]),\"observations classified as 1\")"
   ]
  },
  {
   "cell_type": "markdown",
   "metadata": {},
   "source": [
    "#### - Boxplots for each predictors vs response variable"
   ]
  },
  {
   "cell_type": "code",
   "execution_count": 5,
   "metadata": {},
   "outputs": [
    {
     "data": {
      "image/png": "[encoded data removed]",
      "text/plain": [
       "<Figure size 720x720 with 4 Axes>"
      ]
     },
     "metadata": {
      "needs_background": "light"
     },
     "output_type": "display_data"
    }
   ],
   "source": [
    "fig, axes = plt.subplots(ncols=2, nrows=2,figsize=(10, 10))\n",
    "\n",
    "for i, ax in zip(range(4), axes.flat):\n",
    "    sns.boxplot(x=\"class\", y=headers[i],data=data, ax=ax)\n",
    "plt.show()"
   ]
  },
  {
   "cell_type": "markdown",
   "metadata": {},
   "source": [
    "### - It is very obvious that 'variance' predictor will be very effective to classify whether the banknote is authentic or not by itself. Including this predictor will result the model accuracy of 100% for most of the models. For practicing the machine learning method, I decided to remove 'variance' to make use of various methods."
   ]
  },
  {
   "cell_type": "code",
   "execution_count": 6,
   "metadata": {},
   "outputs": [
    {
     "data": {
      "text/html": [
       "<div>\n",
       "<style scoped>\n",
       "    .dataframe tbody tr th:only-of-type {\n",
       "        vertical-align: middle;\n",
       "    }\n",
       "\n",
       "    .dataframe tbody tr th {\n",
       "        vertical-align: top;\n",
       "    }\n",
       "\n",
       "    .dataframe thead th {\n",
       "        text-align: right;\n",
       "    }\n",
       "</style>\n",
       "<table border=\"1\" class=\"dataframe\">\n",
       "  <thead>\n",
       "    <tr style=\"text-align: right;\">\n",
       "      <th></th>\n",
       "      <th>skewness</th>\n",
       "      <th>curtosis</th>\n",
       "      <th>entropy</th>\n",
       "      <th>class</th>\n",
       "    </tr>\n",
       "  </thead>\n",
       "  <tbody>\n",
       "    <tr>\n",
       "      <th>0</th>\n",
       "      <td>8.6661</td>\n",
       "      <td>-2.8073</td>\n",
       "      <td>-0.44699</td>\n",
       "      <td>0</td>\n",
       "    </tr>\n",
       "    <tr>\n",
       "      <th>1</th>\n",
       "      <td>8.1674</td>\n",
       "      <td>-2.4586</td>\n",
       "      <td>-1.46210</td>\n",
       "      <td>0</td>\n",
       "    </tr>\n",
       "    <tr>\n",
       "      <th>2</th>\n",
       "      <td>-2.6383</td>\n",
       "      <td>1.9242</td>\n",
       "      <td>0.10645</td>\n",
       "      <td>0</td>\n",
       "    </tr>\n",
       "    <tr>\n",
       "      <th>3</th>\n",
       "      <td>9.5228</td>\n",
       "      <td>-4.0112</td>\n",
       "      <td>-3.59440</td>\n",
       "      <td>0</td>\n",
       "    </tr>\n",
       "    <tr>\n",
       "      <th>4</th>\n",
       "      <td>-4.4552</td>\n",
       "      <td>4.5718</td>\n",
       "      <td>-0.98880</td>\n",
       "      <td>0</td>\n",
       "    </tr>\n",
       "  </tbody>\n",
       "</table>\n",
       "</div>"
      ],
      "text/plain": [
       "   skewness  curtosis  entropy  class\n",
       "0    8.6661   -2.8073 -0.44699      0\n",
       "1    8.1674   -2.4586 -1.46210      0\n",
       "2   -2.6383    1.9242  0.10645      0\n",
       "3    9.5228   -4.0112 -3.59440      0\n",
       "4   -4.4552    4.5718 -0.98880      0"
      ]
     },
     "execution_count": 6,
     "metadata": {},
     "output_type": "execute_result"
    }
   ],
   "source": [
    "newdata = data.iloc[:,1:5]\n",
    "newdata.head()"
   ]
  },
  {
   "cell_type": "markdown",
   "metadata": {},
   "source": [
    "### 3. Analysis"
   ]
  },
  {
   "cell_type": "markdown",
   "metadata": {},
   "source": [
    "#### - split the dataset to training and testing with 1:4 Ratio"
   ]
  },
  {
   "cell_type": "code",
   "execution_count": 77,
   "metadata": {},
   "outputs": [],
   "source": [
    "train, test = train_test_split(newdata, test_size=0.25)\n",
    "\n",
    "Xtrain = train.drop(['class'],axis=1)\n",
    "Ytrain = train['class']\n",
    "Xtest = test.drop(['class'],axis=1)\n",
    "Ytest = test['class']"
   ]
  },
  {
   "cell_type": "code",
   "execution_count": null,
   "metadata": {},
   "outputs": [],
   "source": []
  },
  {
   "cell_type": "markdown",
   "metadata": {},
   "source": [
    "#### - define functions for model accuracy"
   ]
  },
  {
   "cell_type": "code",
   "execution_count": 30,
   "metadata": {},
   "outputs": [],
   "source": [
    "def sensitivity(x):\n",
    "    sensitivity= x[0][0] / (x[0][0] + x[0][1])\n",
    "    return sensitivity\n",
    "def specificity(x):\n",
    "    specificity= x[1][1] / (x[1][0] + x[1][1])\n",
    "    return specificity\n",
    "def accuracy(x):\n",
    "    accuracy= (x[0][0] + x[1][1]) / sum(sum(x))\n",
    "    return accuracy"
   ]
  },
  {
   "cell_type": "code",
   "execution_count": 31,
   "metadata": {},
   "outputs": [],
   "source": [
    "def cvvalscore(model):\n",
    "    scores = cross_val_score(estimator=model, \n",
    "                         X=Xtrain, \n",
    "                         y=Ytrain.ravel(), #ravel changes the column to array (it doesn't alter the result but gets rid of warning message)\n",
    "                         cv=10, # k-fold\n",
    "                         n_jobs=1) #number of CPU. -1 means all CPU's\n",
    "    print('10-fold CV accuracy scores: %s' % scores)\n",
    "    print('10-fold CV accuracy: %.3f +/- %.3f' % (np.mean(scores), np.std(scores)))"
   ]
  },
  {
   "cell_type": "code",
   "execution_count": 32,
   "metadata": {},
   "outputs": [],
   "source": [
    "def scores(model, pred):\n",
    "    result = confusion_matrix(Ytest,pred)\n",
    "    print(result, \"Confusion Matrix\")\n",
    "    print(\"Accuracy: %.3f, Sensitivity: %.3f, and Specificity: %.3f\" % (accuracy(result),sensitivity(result),specificity(result)))\n",
    "    print(classification_report(Ytest, pred))\n",
    "    return cvvalscore(model) # 10-fold Cross validation"
   ]
  },
  {
   "cell_type": "markdown",
   "metadata": {},
   "source": [
    "### K-Nearestarest Neighbor with optimal K"
   ]
  },
  {
   "cell_type": "code",
   "execution_count": 78,
   "metadata": {},
   "outputs": [
    {
     "data": {
      "text/plain": [
       "Text(0, 0.5, 'Mean Error')"
      ]
     },
     "execution_count": 78,
     "metadata": {},
     "output_type": "execute_result"
    },
    {
     "data": {
      "image/png": "[encoded data removed]",
      "text/plain": [
       "<Figure size 576x432 with 1 Axes>"
      ]
     },
     "metadata": {
      "needs_background": "light"
     },
     "output_type": "display_data"
    }
   ],
   "source": [
    "lists = []\n",
    "for i in range(1, 100):\n",
    "    knn = KNeighborsClassifier(n_neighbors=i)\n",
    "    knn.fit(Xtrain, Ytrain.ravel())\n",
    "    pred = knn.predict(Xtest)\n",
    "    lists.append(np.mean(pred != np.array(Ytest))) # store the error in the empty list\n",
    "plt.figure(figsize=(8, 6))\n",
    "plt.plot(range(1, 100), lists, color='orange', linestyle='dashed', marker='o',\n",
    "         markerfacecolor='red', markersize=5)\n",
    "plt.title('Mean Error for K from 0 to 100')\n",
    "plt.xlabel('K')\n",
    "plt.ylabel('Mean Error')"
   ]
  },
  {
   "cell_type": "code",
   "execution_count": 79,
   "metadata": {},
   "outputs": [
    {
     "name": "stdout",
     "output_type": "stream",
     "text": [
      "[[188  12]\n",
      " [  4 139]] Confusion Matrix\n",
      "Accuracy: 0.953, Sensitivity: 0.940, and Specificity: 0.972\n",
      "              precision    recall  f1-score   support\n",
      "\n",
      "           0       0.98      0.94      0.96       200\n",
      "           1       0.92      0.97      0.95       143\n",
      "\n",
      "   micro avg       0.95      0.95      0.95       343\n",
      "   macro avg       0.95      0.96      0.95       343\n",
      "weighted avg       0.95      0.95      0.95       343\n",
      "\n",
      "10-fold CV accuracy scores: [0.97115385 0.96153846 0.95145631 0.94174757 0.95145631 0.96116505\n",
      " 0.97087379 0.95098039 0.97058824 0.96078431]\n",
      "10-fold CV accuracy: 0.959 +/- 0.010\n"
     ]
    }
   ],
   "source": [
    "KNN = KNeighborsClassifier(n_neighbors=10) # KNN with k=35 which has the lowest error according to the plot above\n",
    "KNN.fit(Xtrain, Ytrain.ravel()) # fit the model\n",
    "knnpred = KNN.predict(Xtest) # predict with the testing data\n",
    "scores(KNN,knnpred)"
   ]
  },
  {
   "cell_type": "markdown",
   "metadata": {},
   "source": [
    "## Discriminant Analysis"
   ]
  },
  {
   "cell_type": "markdown",
   "metadata": {},
   "source": [
    "### - LDA"
   ]
  },
  {
   "cell_type": "code",
   "execution_count": 35,
   "metadata": {},
   "outputs": [
    {
     "name": "stdout",
     "output_type": "stream",
     "text": [
      "[[155  35]\n",
      " [ 28 125]] Confusion Matrix\n",
      "Accuracy: 0.816, Sensitivity: 0.816, and Specificity: 0.817\n",
      "              precision    recall  f1-score   support\n",
      "\n",
      "           0       0.85      0.82      0.83       190\n",
      "           1       0.78      0.82      0.80       153\n",
      "\n",
      "   micro avg       0.82      0.82      0.82       343\n",
      "   macro avg       0.81      0.82      0.81       343\n",
      "weighted avg       0.82      0.82      0.82       343\n",
      "\n",
      "10-fold CV accuracy scores: [0.81730769 0.74038462 0.82524272 0.82524272 0.7961165  0.78640777\n",
      " 0.82524272 0.85294118 0.82352941 0.79411765]\n",
      "10-fold CV accuracy: 0.809 +/- 0.029\n"
     ]
    }
   ],
   "source": [
    "lda = LinearDiscriminantAnalysis()\n",
    "ldafit = lda.fit(Xtrain,Ytrain.ravel())\n",
    "ldapred = ldafit.predict(Xtest)\n",
    "ldaresult = confusion_matrix(Ytest,ldapred)\n",
    "scores(lda,ldapred)"
   ]
  },
  {
   "cell_type": "markdown",
   "metadata": {},
   "source": [
    "### - QDA"
   ]
  },
  {
   "cell_type": "code",
   "execution_count": 36,
   "metadata": {},
   "outputs": [
    {
     "name": "stdout",
     "output_type": "stream",
     "text": [
      "[[158  32]\n",
      " [ 32 121]] Confusion Matrix\n",
      "Accuracy: 0.813, Sensitivity: 0.832, and Specificity: 0.791\n",
      "              precision    recall  f1-score   support\n",
      "\n",
      "           0       0.83      0.83      0.83       190\n",
      "           1       0.79      0.79      0.79       153\n",
      "\n",
      "   micro avg       0.81      0.81      0.81       343\n",
      "   macro avg       0.81      0.81      0.81       343\n",
      "weighted avg       0.81      0.81      0.81       343\n",
      "\n",
      "10-fold CV accuracy scores: [0.83653846 0.74038462 0.81553398 0.82524272 0.84466019 0.7961165\n",
      " 0.77669903 0.88235294 0.8627451  0.76470588]\n",
      "10-fold CV accuracy: 0.814 +/- 0.043\n"
     ]
    }
   ],
   "source": [
    "qda = QuadraticDiscriminantAnalysis()\n",
    "qdafit = qda.fit(Xtrain,Ytrain)\n",
    "qdapred = qdafit.predict(Xtest)\n",
    "scores(qda,qdapred)"
   ]
  },
  {
   "cell_type": "markdown",
   "metadata": {},
   "source": [
    "### Logistics Regression"
   ]
  },
  {
   "cell_type": "code",
   "execution_count": 37,
   "metadata": {},
   "outputs": [
    {
     "name": "stdout",
     "output_type": "stream",
     "text": [
      "Optimization terminated successfully.\n",
      "         Current function value: 0.435487\n",
      "         Iterations 7\n",
      "                           Logit Regression Results                           \n",
      "==============================================================================\n",
      "Dep. Variable:                  class   No. Observations:                 1029\n",
      "Model:                          Logit   Df Residuals:                     1026\n",
      "Method:                           MLE   Df Model:                            2\n",
      "Date:                Fri, 10 Jan 2020   Pseudo R-squ.:                  0.3660\n",
      "Time:                        19:11:42   Log-Likelihood:                -448.12\n",
      "converged:                       True   LL-Null:                       -706.81\n",
      "                                        LLR p-value:                4.480e-113\n",
      "==============================================================================\n",
      "                 coef    std err          z      P>|z|      [0.025      0.975]\n",
      "------------------------------------------------------------------------------\n",
      "skewness      -0.5797      0.036    -16.013      0.000      -0.651      -0.509\n",
      "curtosis      -0.3797      0.033    -11.387      0.000      -0.445      -0.314\n",
      "entropy       -0.7581      0.058    -13.047      0.000      -0.872      -0.644\n",
      "==============================================================================\n"
     ]
    }
   ],
   "source": [
    "import statsmodels.api as sm\n",
    "logit = sm.Logit(Ytrain,Xtrain) #logistics regression\n",
    "result = logit.fit()\n",
    "print(result.summary())"
   ]
  },
  {
   "cell_type": "code",
   "execution_count": 38,
   "metadata": {},
   "outputs": [
    {
     "name": "stdout",
     "output_type": "stream",
     "text": [
      "[[157  33]\n",
      " [ 29 124]] Confusion Matrix\n",
      "Accuracy: 0.819, Sensitivity: 0.826, and Specificity: 0.810\n",
      "              precision    recall  f1-score   support\n",
      "\n",
      "           0       0.84      0.83      0.84       190\n",
      "           1       0.79      0.81      0.80       153\n",
      "\n",
      "   micro avg       0.82      0.82      0.82       343\n",
      "   macro avg       0.82      0.82      0.82       343\n",
      "weighted avg       0.82      0.82      0.82       343\n",
      "\n",
      "10-fold CV accuracy scores: [0.81730769 0.73076923 0.82524272 0.81553398 0.7961165  0.77669903\n",
      " 0.81553398 0.83333333 0.82352941 0.78431373]\n",
      "10-fold CV accuracy: 0.802 +/- 0.029\n"
     ]
    }
   ],
   "source": [
    "logistics = LogisticRegression(solver='lbfgs') # solver = 'lbfgs' gets rid of warning messages\n",
    "logistics.fit(Xtrain, Ytrain.ravel())\n",
    "logpred = logistics.predict(Xtest)\n",
    "scores(logistics,logpred)"
   ]
  },
  {
   "cell_type": "markdown",
   "metadata": {},
   "source": [
    "### Ensemble Methods"
   ]
  },
  {
   "cell_type": "markdown",
   "metadata": {},
   "source": [
    "#### - Decision Tree"
   ]
  },
  {
   "cell_type": "code",
   "execution_count": 39,
   "metadata": {},
   "outputs": [
    {
     "name": "stdout",
     "output_type": "stream",
     "text": [
      "[[180  10]\n",
      " [ 10 143]] Confusion Matrix\n",
      "Accuracy: 0.942, Sensitivity: 0.947, and Specificity: 0.935\n",
      "              precision    recall  f1-score   support\n",
      "\n",
      "           0       0.95      0.95      0.95       190\n",
      "           1       0.93      0.93      0.93       153\n",
      "\n",
      "   micro avg       0.94      0.94      0.94       343\n",
      "   macro avg       0.94      0.94      0.94       343\n",
      "weighted avg       0.94      0.94      0.94       343\n",
      "\n",
      "10-fold CV accuracy scores: [0.94230769 0.90384615 0.95145631 0.93203883 0.95145631 0.96116505\n",
      " 0.9223301  0.93137255 0.92156863 0.91176471]\n",
      "10-fold CV accuracy: 0.933 +/- 0.018\n"
     ]
    }
   ],
   "source": [
    "dtree = DecisionTreeClassifier(random_state=42)\n",
    "dtree.fit(Xtrain, Ytrain)\n",
    "treepred = dtree.predict(Xtest)\n",
    "scores(dtree,treepred)"
   ]
  },
  {
   "cell_type": "markdown",
   "metadata": {},
   "source": [
    "#### - Bagging"
   ]
  },
  {
   "cell_type": "code",
   "execution_count": 40,
   "metadata": {},
   "outputs": [
    {
     "name": "stdout",
     "output_type": "stream",
     "text": [
      "[[181   9]\n",
      " [ 15 138]] Confusion Matrix\n",
      "Accuracy: 0.930, Sensitivity: 0.953, and Specificity: 0.902\n",
      "              precision    recall  f1-score   support\n",
      "\n",
      "           0       0.92      0.95      0.94       190\n",
      "           1       0.94      0.90      0.92       153\n",
      "\n",
      "   micro avg       0.93      0.93      0.93       343\n",
      "   macro avg       0.93      0.93      0.93       343\n",
      "weighted avg       0.93      0.93      0.93       343\n",
      "\n",
      "10-fold CV accuracy scores: [0.90384615 0.90384615 0.96116505 0.87378641 0.93203883 0.94174757\n",
      " 0.91262136 0.88235294 0.94117647 0.93137255]\n",
      "10-fold CV accuracy: 0.918 +/- 0.026\n"
     ]
    }
   ],
   "source": [
    "bagging = BaggingClassifier(\n",
    "    DecisionTreeClassifier(random_state=42), n_estimators=500,\n",
    "    max_samples=100, bootstrap=True, n_jobs=None, random_state=42) # if bootstrap=False, then it's pasting. Also you can include out-of-bag parameter\n",
    "bagging.fit(Xtrain, Ytrain)\n",
    "bagpred = bagging.predict(Xtest)\n",
    "scores(bagging,bagpred)"
   ]
  },
  {
   "cell_type": "markdown",
   "metadata": {},
   "source": [
    "#### - Random Forest"
   ]
  },
  {
   "cell_type": "code",
   "execution_count": 41,
   "metadata": {},
   "outputs": [
    {
     "name": "stdout",
     "output_type": "stream",
     "text": [
      "[[184   6]\n",
      " [ 20 133]] Confusion Matrix\n",
      "Accuracy: 0.924, Sensitivity: 0.968, and Specificity: 0.869\n",
      "              precision    recall  f1-score   support\n",
      "\n",
      "           0       0.90      0.97      0.93       190\n",
      "           1       0.96      0.87      0.91       153\n",
      "\n",
      "   micro avg       0.92      0.92      0.92       343\n",
      "   macro avg       0.93      0.92      0.92       343\n",
      "weighted avg       0.93      0.92      0.92       343\n",
      "\n",
      "10-fold CV accuracy scores: [0.89423077 0.88461538 0.94174757 0.87378641 0.90291262 0.94174757\n",
      " 0.89320388 0.88235294 0.94117647 0.92156863]\n",
      "10-fold CV accuracy: 0.908 +/- 0.025\n"
     ]
    }
   ],
   "source": [
    "randomf = RandomForestClassifier(n_estimators=500, # 500 trees\n",
    "                                 max_leaf_nodes=16, \n",
    "                                 n_jobs=-1, # -1 means use all CPU\n",
    "                                 random_state=42)\n",
    "randomf.fit(Xtrain, Ytrain)\n",
    "rfpred = randomf.predict(Xtest)\n",
    "scores(randomf,rfpred)"
   ]
  },
  {
   "cell_type": "markdown",
   "metadata": {},
   "source": [
    "#### -- tuning parameter optimization "
   ]
  },
  {
   "cell_type": "code",
   "execution_count": 99,
   "metadata": {},
   "outputs": [],
   "source": [
    "parameter_grid = {\n",
    "    'n_estimators' : [50,100,200,500,1000],\n",
    "    'max_depth' : [4,8,12,16,20],\n",
    "    'min_samples_leaf' : [3,5,7,10,13],\n",
    "    'min_samples_split' : [2,3,5,10,12]\n",
    "}"
   ]
  },
  {
   "cell_type": "code",
   "execution_count": 100,
   "metadata": {},
   "outputs": [],
   "source": [
    "rf = RandomForestClassifier()\n",
    "# Instantiate the grid search model\n",
    "grid_search = GridSearchCV(estimator = rf, param_grid = parameter_grid,cv = 3, n_jobs = -1, verbose = 2) "
   ]
  },
  {
   "cell_type": "code",
   "execution_count": 101,
   "metadata": {},
   "outputs": [
    {
     "name": "stdout",
     "output_type": "stream",
     "text": [
      "Fitting 3 folds for each of 625 candidates, totalling 1875 fits\n"
     ]
    },
    {
     "name": "stderr",
     "output_type": "stream",
     "text": [
      "[Parallel(n_jobs=-1)]: Using backend LokyBackend with 12 concurrent workers.\n",
      "[Parallel(n_jobs=-1)]: Done  17 tasks      | elapsed:    0.6s\n",
      "[Parallel(n_jobs=-1)]: Done 247 tasks      | elapsed:   13.1s\n",
      "[Parallel(n_jobs=-1)]: Done 450 tasks      | elapsed:   24.9s\n",
      "[Parallel(n_jobs=-1)]: Done 733 tasks      | elapsed:   42.0s\n",
      "[Parallel(n_jobs=-1)]: Done 1098 tasks      | elapsed:  1.1min\n",
      "[Parallel(n_jobs=-1)]: Done 1543 tasks      | elapsed:  1.5min\n",
      "[Parallel(n_jobs=-1)]: Done 1875 out of 1875 | elapsed:  1.9min finished\n"
     ]
    },
    {
     "data": {
      "text/plain": [
       "GridSearchCV(cv=3, error_score='raise-deprecating',\n",
       "       estimator=RandomForestClassifier(bootstrap=True, class_weight=None, criterion='gini',\n",
       "            max_depth=None, max_features='auto', max_leaf_nodes=None,\n",
       "            min_impurity_decrease=0.0, min_impurity_split=None,\n",
       "            min_samples_leaf=1, min_samples_split=2,\n",
       "            min_weight_fraction_leaf=0.0, n_estimators='warn', n_jobs=None,\n",
       "            oob_score=False, random_state=None, verbose=0,\n",
       "            warm_start=False),\n",
       "       fit_params=None, iid='warn', n_jobs=-1,\n",
       "       param_grid={'n_estimators': [50, 100, 200, 500, 1000], 'max_depth': [4, 8, 12, 16, 20], 'min_samples_leaf': [3, 5, 7, 10, 13], 'min_samples_split': [2, 3, 5, 10, 12]},\n",
       "       pre_dispatch='2*n_jobs', refit=True, return_train_score='warn',\n",
       "       scoring=None, verbose=2)"
      ]
     },
     "execution_count": 101,
     "metadata": {},
     "output_type": "execute_result"
    }
   ],
   "source": [
    "grid_search.fit(Xtrain, Ytrain)"
   ]
  },
  {
   "cell_type": "code",
   "execution_count": 102,
   "metadata": {},
   "outputs": [
    {
     "name": "stdout",
     "output_type": "stream",
     "text": [
      "{'max_depth': 12, 'min_samples_leaf': 3, 'min_samples_split': 5, 'n_estimators': 200}\n",
      "Best Score: 0.9426627793974732\n"
     ]
    }
   ],
   "source": [
    "print(grid_search.best_params_)\n",
    "print(\"Best Score:\",grid_search.best_score_)"
   ]
  },
  {
   "cell_type": "code",
   "execution_count": 74,
   "metadata": {},
   "outputs": [
    {
     "name": "stdout",
     "output_type": "stream",
     "text": [
      "[[186   8]\n",
      " [ 14 135]] Confusion Matrix\n",
      "Accuracy: 0.936, Sensitivity: 0.959, and Specificity: 0.906\n",
      "              precision    recall  f1-score   support\n",
      "\n",
      "           0       0.93      0.96      0.94       194\n",
      "           1       0.94      0.91      0.92       149\n",
      "\n",
      "   micro avg       0.94      0.94      0.94       343\n",
      "   macro avg       0.94      0.93      0.93       343\n",
      "weighted avg       0.94      0.94      0.94       343\n",
      "\n",
      "10-fold CV accuracy scores: [0.95192308 0.93203883 0.90291262 0.97087379 0.96116505 0.96116505\n",
      " 0.93203883 0.97087379 0.92156863 0.97058824]\n",
      "10-fold CV accuracy: 0.948 +/- 0.023\n"
     ]
    }
   ],
   "source": [
    "randomf2 = RandomForestClassifier(n_estimators=500, # 500 trees\n",
    "                                 max_depth=20,\n",
    "                                 min_samples_leaf=3,\n",
    "                                 min_samples_split=2,\n",
    "                                 n_jobs=-1, # -1 means use all CPU\n",
    "                                 random_state=42)\n",
    "randomf2.fit(Xtrain, Ytrain)\n",
    "rfpred2 = randomf.predict(Xtest)\n",
    "scores(randomf2,rfpred2)"
   ]
  },
  {
   "cell_type": "markdown",
   "metadata": {},
   "source": [
    "#### -- Feature Importance"
   ]
  },
  {
   "cell_type": "code",
   "execution_count": 48,
   "metadata": {},
   "outputs": [
    {
     "name": "stdout",
     "output_type": "stream",
     "text": [
      "Feature ranking:\n",
      "1. Feature 0 (0.525679)\n",
      "2. Feature 1 (0.301611)\n",
      "3. Feature 2 (0.172710)\n"
     ]
    },
    {
     "data": {
      "image/png": "[encoded data removed]",
      "text/plain": [
       "<Figure size 432x288 with 1 Axes>"
      ]
     },
     "metadata": {
      "needs_background": "light"
     },
     "output_type": "display_data"
    }
   ],
   "source": [
    "importances = randomf2.feature_importances_\n",
    "\n",
    "indices = np.argsort(importances)[::-1]\n",
    "\n",
    "# Print the feature ranking\n",
    "print(\"Feature ranking:\")\n",
    "\n",
    "for s in range(Xtrain.shape[1]):\n",
    "    print(\"%d. Feature %d (%f)\" % (s + 1, indices[s], importances[indices[s]]))\n",
    "\n",
    "# Plot the feature importances of the forest\n",
    "plt.figure()\n",
    "plt.title(\"Feature importances\")\n",
    "plt.bar(range(Xtrain.shape[1]), importances[indices],\n",
    "       color=\"blue\")\n",
    "plt.xticks(range(Xtrain.shape[1]), indices)\n",
    "plt.xlim([-1, Xtrain.shape[1]])\n",
    "plt.xlabel('Features')\n",
    "plt.ylabel('Importance')\n",
    "plt.show()"
   ]
  },
  {
   "cell_type": "markdown",
   "metadata": {},
   "source": [
    "#### - Boosting"
   ]
  },
  {
   "cell_type": "markdown",
   "metadata": {},
   "source": [
    "#### --Adaboost (Adaptive Boosting)"
   ]
  },
  {
   "cell_type": "code",
   "execution_count": 111,
   "metadata": {},
   "outputs": [],
   "source": [
    "parameter_grid = {\n",
    "    'n_estimators' : [50,100,200,500],\n",
    "    'algorithm' : ['SAMME', 'SAMME.R'],\n",
    "}\n",
    "\n",
    "ada = AdaBoostClassifier()\n",
    "# Instantiate the grid search model\n",
    "grid_search = GridSearchCV(estimator = ada, param_grid = parameter_grid,cv = 3, n_jobs = -1, verbose = 2) "
   ]
  },
  {
   "cell_type": "code",
   "execution_count": 112,
   "metadata": {},
   "outputs": [
    {
     "name": "stdout",
     "output_type": "stream",
     "text": [
      "Fitting 3 folds for each of 8 candidates, totalling 24 fits\n"
     ]
    },
    {
     "name": "stderr",
     "output_type": "stream",
     "text": [
      "[Parallel(n_jobs=-1)]: Using backend LokyBackend with 12 concurrent workers.\n",
      "[Parallel(n_jobs=-1)]: Done  14 out of  24 | elapsed:    0.3s remaining:    0.2s\n",
      "[Parallel(n_jobs=-1)]: Done  24 out of  24 | elapsed:    0.9s finished\n"
     ]
    },
    {
     "data": {
      "text/plain": [
       "GridSearchCV(cv=3, error_score='raise-deprecating',\n",
       "       estimator=AdaBoostClassifier(algorithm='SAMME.R', base_estimator=None,\n",
       "          learning_rate=1.0, n_estimators=50, random_state=None),\n",
       "       fit_params=None, iid='warn', n_jobs=-1,\n",
       "       param_grid={'n_estimators': [50, 100, 200, 500], 'algorithm': ['SAMME', 'SAMME.R']},\n",
       "       pre_dispatch='2*n_jobs', refit=True, return_train_score='warn',\n",
       "       scoring=None, verbose=2)"
      ]
     },
     "execution_count": 112,
     "metadata": {},
     "output_type": "execute_result"
    }
   ],
   "source": [
    "grid_search.fit(Xtrain, Ytrain)"
   ]
  },
  {
   "cell_type": "code",
   "execution_count": 113,
   "metadata": {},
   "outputs": [
    {
     "name": "stdout",
     "output_type": "stream",
     "text": [
      "{'algorithm': 'SAMME.R', 'n_estimators': 200}\n",
      "Best Score: 0.8940719144800777\n"
     ]
    }
   ],
   "source": [
    "print(grid_search.best_params_)\n",
    "print(\"Best Score:\",grid_search.best_score_)"
   ]
  },
  {
   "cell_type": "code",
   "execution_count": 114,
   "metadata": {},
   "outputs": [
    {
     "name": "stdout",
     "output_type": "stream",
     "text": [
      "[[188  12]\n",
      " [ 17 126]] Confusion Matrix\n",
      "Accuracy: 0.915, Sensitivity: 0.940, and Specificity: 0.881\n",
      "              precision    recall  f1-score   support\n",
      "\n",
      "           0       0.92      0.94      0.93       200\n",
      "           1       0.91      0.88      0.90       143\n",
      "\n",
      "   micro avg       0.92      0.92      0.92       343\n",
      "   macro avg       0.92      0.91      0.91       343\n",
      "weighted avg       0.92      0.92      0.92       343\n",
      "\n",
      "10-fold CV accuracy scores: [0.91346154 0.85576923 0.89320388 0.88349515 0.89320388 0.9223301\n",
      " 0.86407767 0.89215686 0.85294118 0.8627451 ]\n",
      "10-fold CV accuracy: 0.883 +/- 0.023\n"
     ]
    }
   ],
   "source": [
    "adaboost = AdaBoostClassifier(\n",
    "    DecisionTreeClassifier(max_depth=1), \n",
    "    n_estimators=200, \n",
    "    algorithm=\"SAMME.R\", \n",
    "    learning_rate=0.5)\n",
    "adaboost.fit(Xtrain, Ytrain.ravel())\n",
    "adapred = adaboost.predict(Xtest)\n",
    "scores(adaboost,adapred)"
   ]
  },
  {
   "cell_type": "markdown",
   "metadata": {},
   "source": [
    "#### -- Gradient Boosting "
   ]
  },
  {
   "cell_type": "code",
   "execution_count": 118,
   "metadata": {},
   "outputs": [],
   "source": [
    "parameter_grid = {\n",
    "    'n_estimators' : [50,100,200,500],\n",
    "    'max_depth' : [6,8,10,12,15],\n",
    "    'min_samples_split' : [2,4,6,8],\n",
    "    'learning_rate' : [0.05,0.1,0.2,0.5]\n",
    "}\n",
    "\n",
    "gb = GradientBoostingClassifier()\n",
    "grid_search = GridSearchCV(estimator = gb, param_grid = parameter_grid,cv = 3, n_jobs = -1, verbose = 2) "
   ]
  },
  {
   "cell_type": "code",
   "execution_count": 120,
   "metadata": {},
   "outputs": [
    {
     "name": "stdout",
     "output_type": "stream",
     "text": [
      "Fitting 3 folds for each of 320 candidates, totalling 960 fits\n"
     ]
    },
    {
     "name": "stderr",
     "output_type": "stream",
     "text": [
      "[Parallel(n_jobs=-1)]: Using backend LokyBackend with 12 concurrent workers.\n",
      "[Parallel(n_jobs=-1)]: Done  17 tasks      | elapsed:    3.2s\n",
      "[Parallel(n_jobs=-1)]: Done 138 tasks      | elapsed:    8.8s\n",
      "[Parallel(n_jobs=-1)]: Done 341 tasks      | elapsed:   16.3s\n",
      "[Parallel(n_jobs=-1)]: Done 624 tasks      | elapsed:   23.7s\n",
      "[Parallel(n_jobs=-1)]: Done 960 out of 960 | elapsed:   28.8s finished\n"
     ]
    },
    {
     "data": {
      "text/plain": [
       "GridSearchCV(cv=3, error_score='raise-deprecating',\n",
       "       estimator=GradientBoostingClassifier(criterion='friedman_mse', init=None,\n",
       "              learning_rate=0.1, loss='deviance', max_depth=3,\n",
       "              max_features=None, max_leaf_nodes=None,\n",
       "              min_impurity_decrease=0.0, min_impurity_split=None,\n",
       "              min_samples_leaf=1, min_sampl...      subsample=1.0, tol=0.0001, validation_fraction=0.1,\n",
       "              verbose=0, warm_start=False),\n",
       "       fit_params=None, iid='warn', n_jobs=-1,\n",
       "       param_grid={'n_estimators': [50, 100, 200, 500], 'max_depth': [6, 8, 10, 12, 15], 'min_samples_split': [2, 4, 6, 8], 'learning_rate': [0.05, 0.1, 0.2, 0.5]},\n",
       "       pre_dispatch='2*n_jobs', refit=True, return_train_score='warn',\n",
       "       scoring=None, verbose=2)"
      ]
     },
     "execution_count": 120,
     "metadata": {},
     "output_type": "execute_result"
    }
   ],
   "source": [
    "grid_search.fit(Xtrain,Ytrain)"
   ]
  },
  {
   "cell_type": "code",
   "execution_count": 121,
   "metadata": {},
   "outputs": [
    {
     "name": "stdout",
     "output_type": "stream",
     "text": [
      "{'learning_rate': 0.1, 'max_depth': 8, 'min_samples_split': 2, 'n_estimators': 500}\n",
      "Best Score: 0.9446064139941691\n"
     ]
    }
   ],
   "source": [
    "print(grid_search.best_params_)\n",
    "print(\"Best Score:\",grid_search.best_score_)"
   ]
  },
  {
   "cell_type": "code",
   "execution_count": 122,
   "metadata": {},
   "outputs": [
    {
     "name": "stdout",
     "output_type": "stream",
     "text": [
      "[[193   7]\n",
      " [  8 135]] Confusion Matrix\n",
      "Accuracy: 0.956, Sensitivity: 0.965, and Specificity: 0.944\n",
      "              precision    recall  f1-score   support\n",
      "\n",
      "           0       0.96      0.96      0.96       200\n",
      "           1       0.95      0.94      0.95       143\n",
      "\n",
      "   micro avg       0.96      0.96      0.96       343\n",
      "   macro avg       0.96      0.95      0.95       343\n",
      "weighted avg       0.96      0.96      0.96       343\n",
      "\n",
      "10-fold CV accuracy scores: [0.96153846 0.92307692 0.95145631 0.96116505 0.95145631 0.93203883\n",
      " 0.95145631 0.92156863 0.93137255 0.97058824]\n",
      "10-fold CV accuracy: 0.946 +/- 0.016\n"
     ]
    }
   ],
   "source": [
    "gbm = GradientBoostingClassifier(n_estimators=500,\n",
    "                                 learning_rate=0.1, \n",
    "                                 max_depth=8, \n",
    "                                 min_samples_split=2)\n",
    "gbm.fit(Xtrain, Ytrain)\n",
    "gbmpred = gbm.predict(Xtest)\n",
    "scores(gbm,gbmpred)"
   ]
  },
  {
   "cell_type": "code",
   "execution_count": 142,
   "metadata": {},
   "outputs": [
    {
     "name": "stderr",
     "output_type": "stream",
     "text": [
      "C:\\Users\\lyh51\\Anaconda3\\lib\\site-packages\\sklearn\\model_selection\\_split.py:2053: FutureWarning: You should specify a value for 'cv' instead of relying on the default value. The default value will change from 3 to 5 in version 0.22.\n",
      "  warnings.warn(CV_WARNING, FutureWarning)\n",
      "[Parallel(n_jobs=1)]: Using backend SequentialBackend with 1 concurrent workers.\n"
     ]
    },
    {
     "name": "stdout",
     "output_type": "stream",
     "text": [
      "Fitting 3 folds for each of 24 candidates, totalling 72 fits\n"
     ]
    },
    {
     "name": "stderr",
     "output_type": "stream",
     "text": [
      "[Parallel(n_jobs=1)]: Done  72 out of  72 | elapsed:    1.3s finished\n"
     ]
    },
    {
     "data": {
      "text/plain": [
       "GridSearchCV(cv='warn', error_score='raise-deprecating',\n",
       "       estimator=SVC(C=1.0, cache_size=200, class_weight=None, coef0=0.0,\n",
       "  decision_function_shape='ovr', degree=3, gamma='auto_deprecated',\n",
       "  kernel='rbf', max_iter=-1, probability=False, random_state=None,\n",
       "  shrinking=True, tol=0.001, verbose=False),\n",
       "       fit_params=None, iid='warn', n_jobs=None,\n",
       "       param_grid={'C': [0.1, 1, 10, 100], 'gamma': [1, 0.1, 0.01, 0.001, 1e-05, 10]},\n",
       "       pre_dispatch='2*n_jobs', refit=True, return_train_score='warn',\n",
       "       scoring=None, verbose=1)"
      ]
     },
     "execution_count": 142,
     "metadata": {},
     "output_type": "execute_result"
    }
   ],
   "source": []
  },
  {
   "cell_type": "markdown",
   "metadata": {},
   "source": [
    "### SVM"
   ]
  },
  {
   "cell_type": "code",
   "execution_count": 140,
   "metadata": {},
   "outputs": [
    {
     "name": "stdout",
     "output_type": "stream",
     "text": [
      "[[161  39]\n",
      " [ 19 124]] Confusion Matrix\n",
      "Accuracy: 0.831, Sensitivity: 0.805, and Specificity: 0.867\n",
      "              precision    recall  f1-score   support\n",
      "\n",
      "           0       0.89      0.81      0.85       200\n",
      "           1       0.76      0.87      0.81       143\n",
      "\n",
      "   micro avg       0.83      0.83      0.83       343\n",
      "   macro avg       0.83      0.84      0.83       343\n",
      "weighted avg       0.84      0.83      0.83       343\n",
      "\n",
      "10-fold CV accuracy scores: [0.86538462 0.82692308 0.80582524 0.81553398 0.7961165  0.7961165\n",
      " 0.81553398 0.81372549 0.81372549 0.84313725]\n",
      "10-fold CV accuracy: 0.819 +/- 0.020\n"
     ]
    }
   ],
   "source": [
    "clf = svm.SVC(kernel='linear', C=100)\n",
    "clf.fit(Xtrain, Ytrain)\n",
    "clfpred = clf.predict(Xtest)\n",
    "scores(clf,clfpred)"
   ]
  },
  {
   "cell_type": "code",
   "execution_count": 145,
   "metadata": {},
   "outputs": [
    {
     "name": "stderr",
     "output_type": "stream",
     "text": [
      "C:\\Users\\lyh51\\Anaconda3\\lib\\site-packages\\sklearn\\model_selection\\_split.py:2053: FutureWarning: You should specify a value for 'cv' instead of relying on the default value. The default value will change from 3 to 5 in version 0.22.\n",
      "  warnings.warn(CV_WARNING, FutureWarning)\n",
      "[Parallel(n_jobs=1)]: Using backend SequentialBackend with 1 concurrent workers.\n"
     ]
    },
    {
     "name": "stdout",
     "output_type": "stream",
     "text": [
      "Fitting 3 folds for each of 24 candidates, totalling 72 fits\n"
     ]
    },
    {
     "name": "stderr",
     "output_type": "stream",
     "text": [
      "[Parallel(n_jobs=1)]: Done  72 out of  72 | elapsed:    1.3s finished\n"
     ]
    },
    {
     "data": {
      "text/plain": [
       "GridSearchCV(cv='warn', error_score='raise-deprecating',\n",
       "       estimator=SVC(C=1.0, cache_size=200, class_weight=None, coef0=0.0,\n",
       "  decision_function_shape='ovr', degree=3, gamma='auto_deprecated',\n",
       "  kernel='rbf', max_iter=-1, probability=False, random_state=None,\n",
       "  shrinking=True, tol=0.001, verbose=False),\n",
       "       fit_params=None, iid='warn', n_jobs=None,\n",
       "       param_grid={'C': [0.1, 1, 10, 100], 'gamma': [1, 0.1, 0.01, 0.001, 1e-05, 10]},\n",
       "       pre_dispatch='2*n_jobs', refit=True, return_train_score='warn',\n",
       "       scoring=None, verbose=1)"
      ]
     },
     "execution_count": 145,
     "metadata": {},
     "output_type": "execute_result"
    }
   ],
   "source": [
    "param_grid = {'C': [0.1, 1, 10, 100], \n",
    "              'gamma': [1, 0.1, 0.01, 0.001, 0.00001, 10]}\n",
    "grid_search = GridSearchCV(svm.SVC(), param_grid, verbose=1)\n",
    "grid_search.fit(Xtrain, Ytrain)"
   ]
  },
  {
   "cell_type": "code",
   "execution_count": 146,
   "metadata": {},
   "outputs": [
    {
     "name": "stdout",
     "output_type": "stream",
     "text": [
      "{'C': 1, 'gamma': 1}\n",
      "Best Score: 0.9718172983479106\n"
     ]
    }
   ],
   "source": [
    "print(grid_search.best_params_)\n",
    "print(\"Best Score:\",grid_search.best_score_)"
   ]
  },
  {
   "cell_type": "code",
   "execution_count": 159,
   "metadata": {},
   "outputs": [
    {
     "name": "stdout",
     "output_type": "stream",
     "text": [
      "[[189  11]\n",
      " [  1 142]] Confusion Matrix\n",
      "Accuracy: 0.965, Sensitivity: 0.945, and Specificity: 0.993\n",
      "              precision    recall  f1-score   support\n",
      "\n",
      "           0       0.99      0.94      0.97       200\n",
      "           1       0.93      0.99      0.96       143\n",
      "\n",
      "   micro avg       0.97      0.97      0.97       343\n",
      "   macro avg       0.96      0.97      0.96       343\n",
      "weighted avg       0.97      0.97      0.97       343\n",
      "\n",
      "10-fold CV accuracy scores: [0.98076923 0.97115385 0.98058252 0.96116505 0.96116505 0.96116505\n",
      " 0.98058252 0.94117647 0.98039216 0.97058824]\n",
      "10-fold CV accuracy: 0.969 +/- 0.012\n"
     ]
    }
   ],
   "source": [
    "clf = svm.SVC(kernel='rbf', C=1,gamma=1,probability=True) #radial based kernal / probability = True is enabling predict_proba in making ROC\n",
    "clf.fit(Xtrain, Ytrain)\n",
    "clfpred = clf.predict(Xtest)\n",
    "scores(clf,clfpred)"
   ]
  },
  {
   "cell_type": "markdown",
   "metadata": {},
   "source": [
    "### 4. Model Comparison and conclusion"
   ]
  },
  {
   "cell_type": "code",
   "execution_count": 184,
   "metadata": {},
   "outputs": [],
   "source": [
    "def plot_roc_curve(fpr, tpr): # you can use this function to draw 1 ROC curve. If you want to draw multiple lines in one plot, do it manually\n",
    "    plt.plot(fpr, tpr, color='orange', label='ROC')\n",
    "    plt.plot([0, 1], [0, 1], color='darkblue', linestyle='--')\n",
    "    plt.xlabel('False Positive Rate')\n",
    "    plt.ylabel('True Positive Rate')\n",
    "    plt.title('Receiver Operating Characteristic (ROC) Curve')\n",
    "    plt.legend()\n",
    "    plt.show()"
   ]
  },
  {
   "cell_type": "code",
   "execution_count": 161,
   "metadata": {},
   "outputs": [
    {
     "data": {
      "image/png": "[encoded data removed]",
      "text/plain": [
       "<Figure size 864x576 with 1 Axes>"
      ]
     },
     "metadata": {
      "needs_background": "light"
     },
     "output_type": "display_data"
    }
   ],
   "source": [
    "fpr1, tpr1, thresholds1 = roc_curve(Ytest, lda.predict_proba(Xtest)[:, 1]) # you can use decision_function(X) instead of predict_proba\n",
    "fpr2, tpr2, thresholds1 = roc_curve(Ytest, qda.predict_proba(Xtest)[:, 1])\n",
    "fpr3, tpr3, thresholds1 = roc_curve(Ytest, logistics.predict_proba(Xtest)[:, 1])\n",
    "fpr4, tpr4, thresholds1 = roc_curve(Ytest, randomf.predict_proba(Xtest)[:, 1])\n",
    "fpr5, tpr5, thresholds1 = roc_curve(Ytest, adaboost.predict_proba(Xtest)[:, 1])\n",
    "fpr6, tpr6, thresholds1 = roc_curve(Ytest, gbm.predict_proba(Xtest)[:, 1])\n",
    "fpr7, tpr7, thresholds1 = roc_curve(Ytest, clf.predict_proba(Xtest)[:, 1])\n",
    "\n",
    "plt.figure(figsize=(12,8))\n",
    "plt.plot(fpr1, tpr1, 'o-', ms=2, label=\"LDA\")\n",
    "plt.plot(fpr2, tpr2, 'o-', ms=2, label=\"QDA\")\n",
    "plt.plot(fpr3, tpr3, 'o-', ms=2, label=\"Logistics\")\n",
    "plt.plot(fpr4, tpr4, 'o-', ms=2, label=\"Random Forest\")\n",
    "plt.plot(fpr5, tpr5, 'o-', ms=2, label=\"Adaboost\")\n",
    "plt.plot(fpr6, tpr6, 'o-', ms=2, label=\"Gradient Boost\")\n",
    "plt.plot(fpr7, tpr7, 'o-', ms=2, label=\"SVM\")\n",
    "plt.legend()\n",
    "plt.plot([0, 1], [0, 1], color='black', linestyle='--')\n",
    "plt.xlabel('1-Specificity')\n",
    "plt.ylabel('Sensitivity(Recall)')\n",
    "plt.title('ROC Curve')\n",
    "plt.show()"
   ]
  }
 ],
 "metadata": {
  "kernelspec": {
   "display_name": "Python 3",
   "language": "python",
   "name": "python3"
  },
  "language_info": {
   "codemirror_mode": {
    "name": "ipython",
    "version": 3
   },
   "file_extension": ".py",
   "mimetype": "text/x-python",
   "name": "python",
   "nbconvert_exporter": "python",
   "pygments_lexer": "ipython3",
   "version": "3.7.3"
  }
 },
 "nbformat": 4,
 "nbformat_minor": 2
}
